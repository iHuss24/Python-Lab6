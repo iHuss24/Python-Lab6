{
 "cells": [
  {
   "cell_type": "code",
   "execution_count": 1,
   "id": "994cc294",
   "metadata": {},
   "outputs": [
    {
     "name": "stdout",
     "output_type": "stream",
     "text": [
      "Press your number: 1111111111\n",
      "Amal\n"
     ]
    }
   ],
   "source": [
    "number = {1111111111: 'Amal', 2222222222: 'Mohammed', 3333333333: 'Khadijah', 4444444444: 'Abdullah', 5555555555: 'Rawan', 6666666666: 'Faisal', 7777777777: 'Layla'}\n",
    "\n",
    "try:\n",
    "    x = int(input('Press your number: '))\n",
    "\n",
    "    if len(str(x)) == 10:\n",
    "        if x in number:\n",
    "            print(number[x])\n",
    "        else:\n",
    "            print('Sorry, the number is not found')\n",
    "    else:\n",
    "        print('This is an invalid number')\n",
    "\n",
    "except ValueError:\n",
    "    print('Invalid input.')"
   ]
  },
  {
   "cell_type": "code",
   "execution_count": 2,
   "id": "d9236a21",
   "metadata": {},
   "outputs": [
    {
     "name": "stdout",
     "output_type": "stream",
     "text": [
      "Press your number: 9999999999\n",
      "Sorry, the number is not found\n"
     ]
    }
   ],
   "source": [
    "number = {1111111111: 'Amal', 2222222222: 'Mohammed', 3333333333: 'Khadijah', 4444444444: 'Abdullah', 5555555555: 'Rawan', 6666666666: 'Faisal', 7777777777: 'Layla'}\n",
    "\n",
    "try:\n",
    "    x = int(input('Press your number: '))\n",
    "\n",
    "    if len(str(x)) == 10:\n",
    "        if x in number:\n",
    "            print(number[x])\n",
    "        else:\n",
    "            print('Sorry, the number is not found')\n",
    "    else:\n",
    "        print('This is an invalid number')\n",
    "\n",
    "except ValueError:\n",
    "    print('Invalid input.')"
   ]
  },
  {
   "cell_type": "code",
   "execution_count": 3,
   "id": "fc9b36a8",
   "metadata": {},
   "outputs": [
    {
     "name": "stdout",
     "output_type": "stream",
     "text": [
      "Press your number: hhhhhhhhhh\n",
      "Invalid input.\n"
     ]
    }
   ],
   "source": [
    "number = {1111111111: 'Amal', 2222222222: 'Mohammed', 3333333333: 'Khadijah', 4444444444: 'Abdullah', 5555555555: 'Rawan', 6666666666: 'Faisal', 7777777777: 'Layla'}\n",
    "\n",
    "try:\n",
    "    x = int(input('Press your number: '))\n",
    "\n",
    "    if len(str(x)) == 10:\n",
    "        if x in number:\n",
    "            print(number[x])\n",
    "        else:\n",
    "            print('Sorry, the number is not found')\n",
    "    else:\n",
    "        print('This is an invalid number')\n",
    "\n",
    "except ValueError:\n",
    "    print('Invalid input.')"
   ]
  },
  {
   "cell_type": "code",
   "execution_count": null,
   "id": "aa05d27a",
   "metadata": {},
   "outputs": [],
   "source": []
  }
 ],
 "metadata": {
  "kernelspec": {
   "display_name": "Python 3 (ipykernel)",
   "language": "python",
   "name": "python3"
  },
  "language_info": {
   "codemirror_mode": {
    "name": "ipython",
    "version": 3
   },
   "file_extension": ".py",
   "mimetype": "text/x-python",
   "name": "python",
   "nbconvert_exporter": "python",
   "pygments_lexer": "ipython3",
   "version": "3.11.3"
  }
 },
 "nbformat": 4,
 "nbformat_minor": 5
}
